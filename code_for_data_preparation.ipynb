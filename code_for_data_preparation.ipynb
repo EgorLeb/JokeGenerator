{
  "nbformat": 4,
  "nbformat_minor": 0,
  "metadata": {
    "colab": {
      "provenance": []
    },
    "kernelspec": {
      "name": "python3",
      "display_name": "Python 3"
    },
    "language_info": {
      "name": "python"
    }
  },
  "cells": [
    {
      "cell_type": "code",
      "source": [
        "import pandas as pd\n",
        "\n",
        "\n",
        "# print(df.to_string())"
      ],
      "metadata": {
        "id": "PeDrfujbUQ-4"
      },
      "execution_count": null,
      "outputs": []
    },
    {
      "cell_type": "code",
      "source": [
        "df = pd.read_csv('jokes.csv')\n"
      ],
      "metadata": {
        "id": "u_acUU7goJ_8"
      },
      "execution_count": null,
      "outputs": []
    },
    {
      "cell_type": "code",
      "source": [
        "\n",
        "df[\"text\"].to_list()[0]"
      ],
      "metadata": {
        "colab": {
          "base_uri": "https://localhost:8080/",
          "height": 35
        },
        "id": "eQp6th9_ofQD",
        "outputId": "df94203d-b0cc-4b22-8490-9d189a7ccc7c"
      },
      "execution_count": null,
      "outputs": [
        {
          "output_type": "execute_result",
          "data": {
            "text/plain": [
              "'На суде в Стамбуле обвиняемый сказал:\\r\\n- На свои жертвы я нападал всегда днем. Ночью я бы побоялся\\r\\nходить с награбленными деньгами...\\r\\n\\r\\n'"
            ],
            "application/vnd.google.colaboratory.intrinsic+json": {
              "type": "string"
            }
          },
          "metadata": {},
          "execution_count": 3
        }
      ]
    },
    {
      "cell_type": "code",
      "source": [
        "ans = df[\"text\"].to_list()\n",
        "len(ans)"
      ],
      "metadata": {
        "colab": {
          "base_uri": "https://localhost:8080/"
        },
        "id": "Uucy4ZDton-M",
        "outputId": "7627128f-3ab8-4efc-bfa9-de8cf0aa4593"
      },
      "execution_count": null,
      "outputs": [
        {
          "output_type": "execute_result",
          "data": {
            "text/plain": [
              "130204"
            ]
          },
          "metadata": {},
          "execution_count": 4
        }
      ]
    },
    {
      "cell_type": "code",
      "source": [
        "df2 = pd.read_csv('russian_jokes.csv')"
      ],
      "metadata": {
        "id": "GF0oQHZj7mW4"
      },
      "execution_count": null,
      "outputs": []
    },
    {
      "cell_type": "code",
      "source": [
        "len(df2[\"text\"])"
      ],
      "metadata": {
        "colab": {
          "base_uri": "https://localhost:8080/"
        },
        "id": "4f-UlYBz82ey",
        "outputId": "88c7df25-afcc-485e-9b48-d999bf32f593"
      },
      "execution_count": null,
      "outputs": [
        {
          "output_type": "execute_result",
          "data": {
            "text/plain": [
              "63927"
            ]
          },
          "metadata": {},
          "execution_count": 6
        }
      ]
    },
    {
      "cell_type": "code",
      "source": [
        "ans[0]"
      ],
      "metadata": {
        "colab": {
          "base_uri": "https://localhost:8080/",
          "height": 35
        },
        "id": "TiqVFE3689yG",
        "outputId": "dc47e144-b96c-44a8-d913-5b0a977e07e6"
      },
      "execution_count": null,
      "outputs": [
        {
          "output_type": "execute_result",
          "data": {
            "text/plain": [
              "'На суде в Стамбуле обвиняемый сказал:\\r\\n- На свои жертвы я нападал всегда днем. Ночью я бы побоялся\\r\\nходить с награбленными деньгами...\\r\\n\\r\\n'"
            ],
            "application/vnd.google.colaboratory.intrinsic+json": {
              "type": "string"
            }
          },
          "metadata": {},
          "execution_count": 7
        }
      ]
    },
    {
      "cell_type": "code",
      "source": [
        "df2[\"text\"].to_list()[0]"
      ],
      "metadata": {
        "colab": {
          "base_uri": "https://localhost:8080/",
          "height": 87
        },
        "id": "4jvUnGk29Peo",
        "outputId": "6c146e9c-61ec-4978-c22e-67c117d313dc"
      },
      "execution_count": null,
      "outputs": [
        {
          "output_type": "execute_result",
          "data": {
            "text/plain": [
              "'Директор отчитывает главбуха-еврея: \\n- Яков Самуилович, что за каменный век? У вас самый современный компьютер, а вы тарахтите счетами! Ну правда, перед клиентами стыдно! \\n- Роман Аркадьевич, таки шо я вам имею сказать за бухгалтерию. Я уже закрыл не одну финансовую проверку, когда вы ходили пешком под стол и уверяю вас, счеты куда надежнее этого компьютера. Представьте - врывается налоговая в офис: \"Всем к стене, руки за голову!\". И когда вы будете удалять документы из компьютера? А я таки поднимаю руки со счетами, все косточки съезжают на одну сторону и все! Никто ничего не докажет!'"
            ],
            "application/vnd.google.colaboratory.intrinsic+json": {
              "type": "string"
            }
          },
          "metadata": {},
          "execution_count": 8
        }
      ]
    },
    {
      "cell_type": "code",
      "source": [
        "ans2 = ans + df2[\"text\"].to_list()"
      ],
      "metadata": {
        "id": "UIHPLunN8Jz0"
      },
      "execution_count": null,
      "outputs": []
    },
    {
      "cell_type": "code",
      "source": [
        "len(ans2)"
      ],
      "metadata": {
        "colab": {
          "base_uri": "https://localhost:8080/"
        },
        "id": "lBYsfbHi8LSn",
        "outputId": "81c23f8a-8e7f-44c0-fd02-8c377c946907"
      },
      "execution_count": null,
      "outputs": [
        {
          "output_type": "execute_result",
          "data": {
            "text/plain": [
              "194131"
            ]
          },
          "metadata": {},
          "execution_count": 10
        }
      ]
    },
    {
      "cell_type": "code",
      "source": [
        "ans2[0]"
      ],
      "metadata": {
        "colab": {
          "base_uri": "https://localhost:8080/",
          "height": 35
        },
        "id": "hX7Mru-69TtZ",
        "outputId": "856ad769-79da-4ee4-fe5b-18a6fe43ec3a"
      },
      "execution_count": null,
      "outputs": [
        {
          "output_type": "execute_result",
          "data": {
            "text/plain": [
              "'На суде в Стамбуле обвиняемый сказал:\\r\\n- На свои жертвы я нападал всегда днем. Ночью я бы побоялся\\r\\nходить с награбленными деньгами...\\r\\n\\r\\n'"
            ],
            "application/vnd.google.colaboratory.intrinsic+json": {
              "type": "string"
            }
          },
          "metadata": {},
          "execution_count": 11
        }
      ]
    },
    {
      "cell_type": "code",
      "source": [
        "def sep(st, s = \".!?;:\"):\n",
        "  for i in range(2, len(st)):\n",
        "    if st[i] in s:\n",
        "      return i\n",
        "  return -1"
      ],
      "metadata": {
        "id": "CADOjIdv9WTp"
      },
      "execution_count": null,
      "outputs": []
    },
    {
      "cell_type": "code",
      "source": [
        "res = []\n",
        "for s in ans2:\n",
        "  if type(s) == type(str()):\n",
        "    r = sep(s)\n",
        "    if r != -1:\n",
        "      res.append((s, s[:r + 1], s[r + 1:]))"
      ],
      "metadata": {
        "id": "7BEEAJ4lAFwr"
      },
      "execution_count": null,
      "outputs": []
    },
    {
      "cell_type": "code",
      "source": [
        "# for i in range(8):\n",
        "#   print(\"*\", res[i][0])\n",
        "#   print(\"**\", res[i][1])\n",
        "#   print(\"***\", res[i][2])\n",
        "#   print()"
      ],
      "metadata": {
        "id": "v8nbEqsKAzlG"
      },
      "execution_count": null,
      "outputs": []
    },
    {
      "cell_type": "code",
      "source": [
        "Biodata = { 'start': [i[1] for i in res],\n",
        "            'end': [i[2] for i in res],\n",
        "            'full': [i[0] for i in res]\n",
        "        }\n",
        "df_save = pd.DataFrame(Biodata)\n",
        "\n",
        "# Save the dataframe to a CSV file\n",
        "df_save.to_csv('jokes_ru_craft.csv', index=False)"
      ],
      "metadata": {
        "id": "Uzz0Q5FhCBiH"
      },
      "execution_count": null,
      "outputs": []
    },
    {
      "cell_type": "code",
      "source": [
        "len([i[0] for i in res])"
      ],
      "metadata": {
        "id": "3yyOGnMeLHgZ",
        "outputId": "29442c1e-b515-4fae-9267-524aa6f662d9",
        "colab": {
          "base_uri": "https://localhost:8080/"
        }
      },
      "execution_count": null,
      "outputs": [
        {
          "output_type": "execute_result",
          "data": {
            "text/plain": [
              "191889"
            ]
          },
          "metadata": {},
          "execution_count": 55
        }
      ]
    },
    {
      "cell_type": "code",
      "source": [
        "e = pd.read_csv('jokes_ru_craft.csv')"
      ],
      "metadata": {
        "id": "C5_e_AQbH2KA"
      },
      "execution_count": null,
      "outputs": []
    },
    {
      "cell_type": "code",
      "source": [
        "e[\"start\"]"
      ],
      "metadata": {
        "colab": {
          "base_uri": "https://localhost:8080/",
          "height": 458
        },
        "id": "eor0sQEuH9tF",
        "outputId": "5f9a6c22-6502-4149-94a3-2f82ffc5b080"
      },
      "execution_count": null,
      "outputs": [
        {
          "output_type": "execute_result",
          "data": {
            "text/plain": [
              "0                    На суде в Стамбуле обвиняемый сказал:\n",
              "1         - Вы продолжаете утверждать, что обвиняемый н...\n",
              "2                                                  На суде.\n",
              "3                              Старую леди сбил автомобиль.\n",
              "4                                            Судья говорит:\n",
              "                                ...                        \n",
              "191884                Просыпается мужик с дичайшего бодуна.\n",
              "191885                                -Вы кто по гороскопу?\n",
              "191886           — Как узнать снеговик женщина или мужчина?\n",
              "191887                               — А у вас хлеб свежий?\n",
              "191888                             — У вас анекдоты свежие?\n",
              "Name: start, Length: 191889, dtype: object"
            ],
            "text/html": [
              "<div>\n",
              "<style scoped>\n",
              "    .dataframe tbody tr th:only-of-type {\n",
              "        vertical-align: middle;\n",
              "    }\n",
              "\n",
              "    .dataframe tbody tr th {\n",
              "        vertical-align: top;\n",
              "    }\n",
              "\n",
              "    .dataframe thead th {\n",
              "        text-align: right;\n",
              "    }\n",
              "</style>\n",
              "<table border=\"1\" class=\"dataframe\">\n",
              "  <thead>\n",
              "    <tr style=\"text-align: right;\">\n",
              "      <th></th>\n",
              "      <th>start</th>\n",
              "    </tr>\n",
              "  </thead>\n",
              "  <tbody>\n",
              "    <tr>\n",
              "      <th>0</th>\n",
              "      <td>На суде в Стамбуле обвиняемый сказал:</td>\n",
              "    </tr>\n",
              "    <tr>\n",
              "      <th>1</th>\n",
              "      <td>- Вы продолжаете утверждать, что обвиняемый н...</td>\n",
              "    </tr>\n",
              "    <tr>\n",
              "      <th>2</th>\n",
              "      <td>На суде.</td>\n",
              "    </tr>\n",
              "    <tr>\n",
              "      <th>3</th>\n",
              "      <td>Старую леди сбил автомобиль.</td>\n",
              "    </tr>\n",
              "    <tr>\n",
              "      <th>4</th>\n",
              "      <td>Судья говорит:</td>\n",
              "    </tr>\n",
              "    <tr>\n",
              "      <th>...</th>\n",
              "      <td>...</td>\n",
              "    </tr>\n",
              "    <tr>\n",
              "      <th>191884</th>\n",
              "      <td>Просыпается мужик с дичайшего бодуна.</td>\n",
              "    </tr>\n",
              "    <tr>\n",
              "      <th>191885</th>\n",
              "      <td>-Вы кто по гороскопу?</td>\n",
              "    </tr>\n",
              "    <tr>\n",
              "      <th>191886</th>\n",
              "      <td>— Как узнать снеговик женщина или мужчина?</td>\n",
              "    </tr>\n",
              "    <tr>\n",
              "      <th>191887</th>\n",
              "      <td>— А у вас хлеб свежий?</td>\n",
              "    </tr>\n",
              "    <tr>\n",
              "      <th>191888</th>\n",
              "      <td>— У вас анекдоты свежие?</td>\n",
              "    </tr>\n",
              "  </tbody>\n",
              "</table>\n",
              "<p>191889 rows × 1 columns</p>\n",
              "</div><br><label><b>dtype:</b> object</label>"
            ]
          },
          "metadata": {},
          "execution_count": 53
        }
      ]
    },
    {
      "cell_type": "code",
      "source": [
        "import zipfile\n",
        "zipfile.ZipFile('hello.zip', mode='w').write(\"jokes_ru_craft.csv\")"
      ],
      "metadata": {
        "id": "qdObnneGH_fY"
      },
      "execution_count": null,
      "outputs": []
    },
    {
      "cell_type": "code",
      "source": [],
      "metadata": {
        "id": "9Jxk26_XJiDp"
      },
      "execution_count": null,
      "outputs": []
    },
    {
      "cell_type": "code",
      "source": [],
      "metadata": {
        "id": "7P2-uJkvJCNd"
      },
      "execution_count": null,
      "outputs": []
    }
  ]
}